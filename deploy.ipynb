{
 "cells": [
  {
   "cell_type": "code",
   "execution_count": 8,
   "id": "cc9070e4-3007-4139-8a71-1bd607b1f0b6",
   "metadata": {
    "tags": []
   },
   "outputs": [],
   "source": [
    "PROJECT_ID = \"svc-demo-vertex\"\n",
    "REGION = \"us-central1\"\n",
    "BUCKET_NAME = \"gs://mb-cloud-llm-preview1-bucket/img2vid\"\n",
    "SERVICE=\"storycraft2\""
   ]
  },
  {
   "cell_type": "code",
   "execution_count": 9,
   "id": "652bcde5-835c-4087-b72c-af0f75f35959",
   "metadata": {
    "tags": []
   },
   "outputs": [],
   "source": [
    "# Set the IMAGE_URI\n",
    "IMAGE_URI=f\"us-central1-docker.pkg.dev/{PROJECT_ID}/vertexai/{SERVICE}:v1\""
   ]
  },
  {
   "cell_type": "code",
   "execution_count": 10,
   "id": "337ee781-d663-4dfb-bed8-1cbe32b38c70",
   "metadata": {
    "tags": []
   },
   "outputs": [
    {
     "name": "stdout",
     "output_type": "stream",
     "text": [
      "Sending build context to Docker daemon  95.57MB\n",
      "Step 1/30 : FROM node:23-alpine AS base\n",
      " ---> 31d93c95bd30\n",
      "Step 2/30 : FROM base AS deps\n",
      " ---> 31d93c95bd30\n",
      "Step 3/30 : RUN apk add --update libc6-compat\n",
      " ---> Using cache\n",
      " ---> 987e3ba7541d\n",
      "Step 4/30 : RUN apk add --update ffmpeg\n",
      " ---> Using cache\n",
      " ---> aee0a0cdc1ac\n",
      "Step 5/30 : WORKDIR /app\n",
      " ---> Using cache\n",
      " ---> fcf22aff8751\n",
      "Step 6/30 : COPY package.json yarn.lock* package-lock.json* pnpm-lock.yaml* ./\n",
      " ---> Using cache\n",
      " ---> 8e138cc38c91\n",
      "Step 7/30 : RUN   if [ -f yarn.lock ]; then yarn --frozen-lockfile;   elif [ -f package-lock.json ]; then npm ci;   elif [ -f pnpm-lock.yaml ]; then yarn global add pnpm && pnpm i --frozen-lockfile;   else echo \"Lockfile not found.\" && exit 1;   fi\n",
      " ---> Using cache\n",
      " ---> 395c354d954a\n",
      "Step 8/30 : FROM base AS builder\n",
      " ---> 31d93c95bd30\n",
      "Step 9/30 : WORKDIR /app\n",
      " ---> Using cache\n",
      " ---> 78cd07260f56\n",
      "Step 10/30 : COPY --from=deps /app/node_modules ./node_modules\n",
      " ---> Using cache\n",
      " ---> d89b2aa5dbb8\n",
      "Step 11/30 : COPY . .\n",
      " ---> e3d6419741ec\n",
      "Step 12/30 : ENV NEXT_TELEMETRY_DISABLED 1\n",
      " ---> Running in 80f304b3c441\n",
      "Removing intermediate container 80f304b3c441\n",
      " ---> 98bfd72ae1f6\n",
      "Step 13/30 : RUN yarn build\n",
      " ---> Running in f904d6de8937\n",
      "yarn run v1.22.22\n",
      "$ next build\n",
      "   ▲ Next.js 15.3.3\n",
      "\n",
      "   Creating an optimized production build ...\n",
      " ✓ Compiled successfully in 23.0s\n",
      "   Skipping linting\n",
      "   Checking validity of types ...\n",
      "   Collecting page data ...\n",
      "\u001b[91m(node:114) [DEP0040] DeprecationWarning: The `punycode` module is deprecated. Please use a userland alternative instead.\n",
      "(Use `node --trace-deprecation ...` to show where the warning was created)\n",
      "\u001b[0m   Generating static pages (0/7) ...\n",
      "   Generating static pages (1/7) \n",
      "\u001b[91m(node:139) [DEP0040] DeprecationWarning: The `punycode` module is deprecated. Please use a userland alternative instead.\n",
      "(Use `node --trace-deprecation ...` to show where the warning was created)\n",
      "\u001b[0mComponent rendered\n",
      "   Generating static pages (3/7) \n",
      "   Generating static pages (5/7) \n",
      " ✓ Generating static pages (7/7)\n",
      "   Finalizing page optimization ...\n",
      "   Collecting build traces ...\n",
      "\n",
      "Route (app)                                 Size  First Load JS\n",
      "┌ ○ /                                    62.5 kB         168 kB\n",
      "├ ○ /_not-found                            977 B         102 kB\n",
      "├ ƒ /api/scene                             139 B         101 kB\n",
      "└ ƒ /api/videos                            139 B         101 kB\n",
      "+ First Load JS shared by all             101 kB\n",
      "  ├ chunks/4bd1b696-84ec8dd8970ea6ea.js  53.2 kB\n",
      "  ├ chunks/684-5ec7dd943a231d00.js       45.9 kB\n",
      "  └ other shared chunks (total)          1.92 kB\n",
      "\n",
      "\n",
      "○  (Static)   prerendered as static content\n",
      "ƒ  (Dynamic)  server-rendered on demand\n",
      "\n",
      "Done in 68.79s.\n",
      "Removing intermediate container f904d6de8937\n",
      " ---> d2f27417ac97\n",
      "Step 14/30 : FROM base AS runner\n",
      " ---> 31d93c95bd30\n",
      "Step 15/30 : RUN apk add --update ffmpeg\n",
      " ---> Using cache\n",
      " ---> 449c1d6b227f\n",
      "Step 16/30 : WORKDIR /app\n",
      " ---> Using cache\n",
      " ---> a00de02aa310\n",
      "Step 17/30 : ENV NODE_ENV production\n",
      " ---> Using cache\n",
      " ---> 71df020a905a\n",
      "Step 18/30 : ENV NEXT_TELEMETRY_DISABLED 1\n",
      " ---> Using cache\n",
      " ---> d2b2ef033973\n",
      "Step 19/30 : RUN addgroup --system --gid 1001 nodejs\n",
      " ---> Using cache\n",
      " ---> 398182075167\n",
      "Step 20/30 : RUN adduser --system --uid 1001 nextjs\n",
      " ---> Using cache\n",
      " ---> 599cdbe83371\n",
      "Step 21/30 : COPY --from=builder /app/public ./public\n",
      " ---> Using cache\n",
      " ---> 007e7ed9da31\n",
      "Step 22/30 : RUN mkdir .next\n",
      " ---> Using cache\n",
      " ---> 19b2742832b5\n",
      "Step 23/30 : RUN chown nextjs:nodejs .next\n",
      " ---> Using cache\n",
      " ---> 789b9ab3cbc7\n",
      "Step 24/30 : COPY --from=builder --chown=nextjs:nodejs /app/.next/standalone ./\n",
      " ---> a7bfee04e252\n",
      "Step 25/30 : COPY --from=builder --chown=nextjs:nodejs /app/.next/static ./.next/static\n",
      " ---> 289b8e6ae6bd\n",
      "Step 26/30 : USER nextjs\n",
      " ---> Running in 50ea3a9c89ae\n",
      "Removing intermediate container 50ea3a9c89ae\n",
      " ---> 9d956a5b1f9c\n",
      "Step 27/30 : EXPOSE 3000\n",
      " ---> Running in 07b06098d845\n",
      "Removing intermediate container 07b06098d845\n",
      " ---> 99075f37ebe4\n",
      "Step 28/30 : ENV PORT 3000\n",
      " ---> Running in cd581b7dc479\n",
      "Removing intermediate container cd581b7dc479\n",
      " ---> 772367cbaec9\n",
      "Step 29/30 : ENV HOSTNAME \"0.0.0.0\"\n",
      " ---> Running in d8e2414cc076\n",
      "Removing intermediate container d8e2414cc076\n",
      " ---> df6b5049637a\n",
      "Step 30/30 : CMD [\"node\", \"server.js\"]\n",
      " ---> Running in 3278b0f60d39\n",
      "Removing intermediate container 3278b0f60d39\n",
      " ---> befba93e608b\n",
      "Successfully built befba93e608b\n",
      "Successfully tagged us-central1-docker.pkg.dev/svc-demo-vertex/vertexai/storycraft2:v1\n"
     ]
    }
   ],
   "source": [
    "! docker build -f ./Dockerfile -t $IMAGE_URI ."
   ]
  },
  {
   "cell_type": "code",
   "execution_count": 11,
   "id": "c5461b04-30a1-4c1b-83d1-185040942029",
   "metadata": {
    "tags": []
   },
   "outputs": [
    {
     "name": "stdout",
     "output_type": "stream",
     "text": [
      "The push refers to repository [us-central1-docker.pkg.dev/svc-demo-vertex/vertexai/storycraft2]\n",
      "\n",
      "\u001b[1B3b7b98cf: Preparing \n",
      "\u001b[1B3ddf9810: Preparing \n",
      "\u001b[1B0ba551ec: Preparing \n",
      "\u001b[1Bba48ae07: Preparing \n",
      "\u001b[1B3acb3588: Preparing \n",
      "\u001b[1B78baf38f: Preparing \n",
      "\u001b[1B3ef1be29: Preparing \n",
      "\u001b[1Bc3228a59: Preparing \n",
      "\u001b[1Bfa0ec069: Preparing \n",
      "\u001b[1B1c5999de: Preparing \n",
      "\u001b[1B64ef9611: Preparing \n",
      "\u001b[1B842cb1dd: Preparing \n",
      "\u001b[12Bddf9810: Pushed   196.6MB/194.7MB\u001b[12A\u001b[2K\u001b[10A\u001b[2K\u001b[8A\u001b[2K\u001b[6A\u001b[2K\u001b[3A\u001b[2K\u001b[12A\u001b[2K\u001b[1A\u001b[2K\u001b[12A\u001b[2K\u001b[12A\u001b[2K\u001b[12A\u001b[2K\u001b[12A\u001b[2K\u001b[12A\u001b[2K\u001b[12A\u001b[2K\u001b[12A\u001b[2K\u001b[12A\u001b[2K\u001b[12A\u001b[2K\u001b[12A\u001b[2K\u001b[12A\u001b[2K\u001b[12A\u001b[2K\u001b[12A\u001b[2K\u001b[12A\u001b[2K\u001b[12A\u001b[2K\u001b[12A\u001b[2K\u001b[12A\u001b[2K\u001b[12A\u001b[2K\u001b[12A\u001b[2K\u001b[12A\u001b[2K\u001b[12A\u001b[2K\u001b[12A\u001b[2K\u001b[12A\u001b[2K\u001b[12A\u001b[2K\u001b[12A\u001b[2K\u001b[12A\u001b[2K\u001b[12A\u001b[2K\u001b[12A\u001b[2K\u001b[12A\u001b[2K\u001b[12A\u001b[2K\u001b[12A\u001b[2K\u001b[12A\u001b[2K\u001b[12A\u001b[2K\u001b[12A\u001b[2K\u001b[12A\u001b[2K\u001b[12A\u001b[2K\u001b[12A\u001b[2K\u001b[12A\u001b[2K\u001b[12A\u001b[2K\u001b[12A\u001b[2K\u001b[12A\u001b[2K\u001b[12A\u001b[2K\u001b[12A\u001b[2K\u001b[12A\u001b[2K\u001b[12A\u001b[2K\u001b[12A\u001b[2K\u001b[12A\u001b[2K\u001b[12A\u001b[2K\u001b[12A\u001b[2K\u001b[12A\u001b[2K\u001b[12A\u001b[2K\u001b[12A\u001b[2K\u001b[12A\u001b[2K\u001b[12A\u001b[2K\u001b[12A\u001b[2K\u001b[12A\u001b[2K\u001b[12A\u001b[2K\u001b[12A\u001b[2K\u001b[12A\u001b[2K\u001b[12A\u001b[2K\u001b[12A\u001b[2K\u001b[12A\u001b[2K\u001b[12A\u001b[2K\u001b[12A\u001b[2K\u001b[12A\u001b[2K\u001b[12A\u001b[2K\u001b[12A\u001b[2K\u001b[12A\u001b[2K\u001b[12A\u001b[2K\u001b[12A\u001b[2K\u001b[12A\u001b[2K\u001b[12A\u001b[2K\u001b[12A\u001b[2K\u001b[12A\u001b[2K\u001b[12A\u001b[2K\u001b[12A\u001b[2K\u001b[12A\u001b[2K\u001b[12A\u001b[2K\u001b[12A\u001b[2K\u001b[12A\u001b[2K\u001b[12A\u001b[2K\u001b[12A\u001b[2K\u001b[12A\u001b[2K\u001b[12A\u001b[2K\u001b[12A\u001b[2K\u001b[12A\u001b[2K\u001b[12A\u001b[2K\u001b[12A\u001b[2K\u001b[12A\u001b[2K\u001b[12A\u001b[2K\u001b[12A\u001b[2K\u001b[12A\u001b[2K\u001b[12A\u001b[2K\u001b[12A\u001b[2K\u001b[12A\u001b[2K\u001b[12A\u001b[2K\u001b[12A\u001b[2Kv1: digest: sha256:f89b5af918cab962f4e797aa5170ef4abb2b7e7fb22393ed016e163da97e0a04 size: 3041\n"
     ]
    }
   ],
   "source": [
    "! docker push $IMAGE_URI"
   ]
  },
  {
   "cell_type": "code",
   "execution_count": 12,
   "id": "f3cbc102-53e5-454a-b074-d3b7fb24c1e9",
   "metadata": {
    "tags": []
   },
   "outputs": [],
   "source": [
    "%%capture capt\n",
    "! gcloud run deploy $SERVICE --image $IMAGE_URI --cpu 1 --memory 2G --region $REGION --set-env-vars PROJECT_ID=\"svc-demo-vertex\",LOCATION=\"us-central1\",MODEL=\"veo-3.0-generate-preview\",GCS_VIDEOS_STORAGE_URI=\"gs://svc-demo-vertex-us/storycraft/\",USE_SIGNED_URL=\"true\""
   ]
  },
  {
   "cell_type": "code",
   "execution_count": 13,
   "id": "d6f9ef4d-1ade-480e-ad8f-4eb78969a2c2",
   "metadata": {
    "tags": []
   },
   "outputs": [
    {
     "name": "stdout",
     "output_type": "stream",
     "text": [
      "\n"
     ]
    }
   ],
   "source": [
    "print(capt.stderr)"
   ]
  },
  {
   "cell_type": "code",
   "execution_count": null,
   "id": "7a29c10a-8a8f-4d6a-9e8a-b9731aef9d0b",
   "metadata": {
    "tags": []
   },
   "outputs": [],
   "source": [
    "! gcloud beta run services logs tail $SERVICE --project $PROJECT_ID --region $REGION"
   ]
  },
  {
   "cell_type": "code",
   "execution_count": 15,
   "id": "94b982f7-63ad-48ef-83fd-09254f8c542e",
   "metadata": {},
   "outputs": [
    {
     "name": "stdout",
     "output_type": "stream",
     "text": [
      "OK\n"
     ]
    }
   ],
   "source": [
    "print('OK')"
   ]
  },
  {
   "cell_type": "code",
   "execution_count": null,
   "id": "3d5228c4-b0f0-4fd0-a0de-7583dd4822fd",
   "metadata": {},
   "outputs": [],
   "source": []
  }
 ],
 "metadata": {
  "environment": {
   "kernel": "conda-root-py",
   "name": "workbench-notebooks.m115",
   "type": "gcloud",
   "uri": "gcr.io/deeplearning-platform-release/workbench-notebooks:m115"
  },
  "kernelspec": {
   "display_name": "Python 3 (ipykernel) (Local)",
   "language": "python",
   "name": "conda-root-py"
  },
  "language_info": {
   "codemirror_mode": {
    "name": "ipython",
    "version": 3
   },
   "file_extension": ".py",
   "mimetype": "text/x-python",
   "name": "python",
   "nbconvert_exporter": "python",
   "pygments_lexer": "ipython3",
   "version": "3.10.13"
  }
 },
 "nbformat": 4,
 "nbformat_minor": 5
}
